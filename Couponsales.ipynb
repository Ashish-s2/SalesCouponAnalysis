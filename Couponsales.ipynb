{
 "cells": [
  {
   "cell_type": "markdown",
   "id": "6eb9e85e-e794-4644-aa84-2eaba1637e42",
   "metadata": {},
   "source": [
    "#  Online Coupon Sales Analysis\n",
    "\n",
    "Welcome to **Online Sales Coupon Analysis**.  \n",
    "\n",
    "> **Crafted by:** Ashish Sahu |   \n",
    "> **Powered by:** Pandas, Seaborn, Matplotlib, Numpy & Vibes \n",
    "---"
   ]
  },
  {
   "cell_type": "code",
   "execution_count": 6,
   "id": "dad79eee-d9a4-42bc-ab21-931b12d9db22",
   "metadata": {},
   "outputs": [],
   "source": [
    "#  Imports & Styling\n",
    "import pandas as pd\n",
    "import numpy as np\n",
    "import matplotlib.pyplot as plt\n",
    "import seaborn as sns\n",
    "import calendar\n",
    "import warnings\n",
    "warnings.filterwarnings(\"ignore\")\n",
    "\n",
    "# Visualization Theme\n",
    "sns.set(style=\"whitegrid\")\n",
    "plt.rcParams.update({\n",
    "    'figure.figsize': (12, 6),\n",
    "    'axes.titlesize': 18,\n",
    "    'axes.labelsize': 14,\n",
    "    'xtick.labelsize': 12,\n",
    "    'ytick.labelsize': 12\n",
    "})\n"
   ]
  },
  {
   "cell_type": "code",
   "execution_count": 8,
   "id": "7017e277-16d3-4c6d-85e7-2a184c7adf02",
   "metadata": {},
   "outputs": [
    {
     "name": "stdout",
     "output_type": "stream",
     "text": [
      " Dataset Loaded — Rows: 10000 | Columns: 17\n"
     ]
    }
   ],
   "source": [
    "#  Load Final CSV\n",
    "df = pd.read_csv(\"C:\\Online Sales Coupon Analysis\\online_coupon_analysis_dataset.csv\")\n",
    "df['order_date'] = pd.to_datetime(df['order_date'])\n",
    "\n",
    "# Backup raw\n",
    "raw_df = df.copy()\n",
    "print(\" Dataset Loaded — Rows:\", df.shape[0], \"| Columns:\", df.shape[1])\n"
   ]
  },
  {
   "cell_type": "markdown",
   "id": "ef16bd94-1f20-440c-adab-025a2e57d4b6",
   "metadata": {},
   "source": [
    "##  Dataset Breakdown\n",
    "\n",
    "Let’s get comfy with what this dataset actually contains:\n",
    "\n",
    "- **Customer-level** data (`customer_id`, `region`, `income`)\n",
    "- **Sales transaction** data (`order_date`, `product_category`, `order_amount`)\n",
    "- **Coupon data** (`coupon_type`, `discount_amount`, `coupon_used`)\n",
    "- **Derived features**:\n",
    "  - `final_amount`, `units_sold`, `discount_percentage`\n",
    "  - `savings_per_unit`, `sales_category`, `month_name`\n",
    "\n",
    "All ready for slicing, dicing, and insight-mining \n",
    "\n",
    "---\n"
   ]
  },
  {
   "cell_type": "code",
   "execution_count": null,
   "id": "584b3b1a-cc68-4b0a-b789-2edb08022cae",
   "metadata": {},
   "outputs": [],
   "source": [
    "#  Preview + Info\n",
    "display(df.head())\n",
    "print(\"\\n Data Types & Null Check:\")\n",
    "print(df.info())\n",
    "print(\"\\n Missing Values:\\n\", df.isnull().sum())\n"
   ]
  },
  {
   "cell_type": "markdown",
   "id": "f639f345-98b1-4b66-9c3c-6533cc16d2c1",
   "metadata": {},
   "source": [
    "##  Feature Engineering\n",
    "\n",
    "-  `final_amount = order_amount - discount_amount`\n",
    "-  `discount_percentage = (discount / order) * 100`\n",
    "-  `savings_per_unit = discount / units_sold`\n",
    "-  `sales_category` is a spend segment\n",
    "-  `coupon_used`: 1 if applied, 0 if not\n",
    "\n",
    "---"
   ]
  },
  {
   "cell_type": "code",
   "execution_count": null,
   "id": "d747e141-da01-4d69-862a-6846d9196319",
   "metadata": {},
   "outputs": [],
   "source": [
    "#  Recalculate fields to verify\n",
    "df['calc_discount_percent'] = np.round((df['discount_amount'] / df['order_amount']) * 100, 2)\n",
    "df['calc_savings_per_unit'] = np.round(df['discount_amount'] / df['units_sold'], 2)\n",
    "\n",
    "check_percent = np.allclose(df['calc_discount_percent'], df['discount_percentage'])\n",
    "check_saving = np.allclose(df['calc_savings_per_unit'], df['savings_per_unit'])\n",
    "\n",
    "print(\" Discount % verified:\", check_percent)\n",
    "print(\" Savings per unit verified:\", check_saving)\n",
    "\n",
    "# Clean temp cols\n",
    "df.drop(['calc_discount_percent', 'calc_savings_per_unit'], axis=1, inplace=True)\n"
   ]
  },
  {
   "cell_type": "markdown",
   "id": "524e3781-c813-40f4-968d-d5f16219a2e8",
   "metadata": {},
   "source": [
    "##  Distribution of Coupon Types\n",
    "\n",
    "Which kinds of coupons dominate the customer journey?\n",
    "\n",
    "Let’s explore their frequency and get a feel for what customers are using the most.\n",
    "\n",
    "---\n"
   ]
  },
  {
   "cell_type": "code",
   "execution_count": null,
   "id": "4bddf17a-a72a-4dea-b40b-ffd0d39fba84",
   "metadata": {},
   "outputs": [],
   "source": [
    "coupon_usage = df['coupon_type'].value_counts()\n",
    "\n",
    "sns.barplot(x=coupon_usage.index, y=coupon_usage.values, palette='rocket')\n",
    "plt.title(\"Coupon Type Distribution\", fontsize=16)\n",
    "plt.ylabel(\"Usage Count\")\n",
    "plt.xlabel(\"Coupon Type\")\n",
    "plt.xticks(rotation=45)\n",
    "plt.tight_layout()\n",
    "plt.show()\n"
   ]
  },
  {
   "cell_type": "markdown",
   "id": "22190725-9c97-40d4-b1ad-9ec17e666de6",
   "metadata": {},
   "source": [
    "##  Month-wise Sales Trend\n",
    "\n",
    "Let’s visualize how total revenue shifts across months and years.  \n",
    "This helps reveal **seasonal patterns**, **festival boosts**, and **planning windows**.\n",
    "\n",
    "---\n"
   ]
  },
  {
   "cell_type": "code",
   "execution_count": null,
   "id": "9c73a393-efb0-447b-9a00-e4909f92b3fe",
   "metadata": {},
   "outputs": [],
   "source": [
    "monthly_sales = df.groupby(['year', 'month_name'])['final_amount'].sum().reset_index()\n",
    "monthly_sales['month_num'] = monthly_sales['month_name'].apply(lambda x: list(calendar.month_name).index(x))\n",
    "monthly_sales = monthly_sales.sort_values(['year', 'month_num'])\n",
    "\n",
    "sns.lineplot(data=monthly_sales, x='month_name', y='final_amount', hue='year', marker=\"o\", linewidth=2.5)\n",
    "plt.title(\"Month-wise Total Revenue\")\n",
    "plt.ylabel(\"Revenue (₹)\")\n",
    "plt.xlabel(\"Month\")\n",
    "plt.xticks(rotation=45)\n",
    "plt.grid(True, linestyle='--', alpha=0.6)\n",
    "plt.tight_layout()\n",
    "plt.show()\n"
   ]
  },
  {
   "cell_type": "markdown",
   "id": "4024bef3-ea1b-41d4-aadc-7295cf14a0d6",
   "metadata": {},
   "source": [
    "##  Product Category Breakdown\n",
    "\n",
    "What are customers buying most?  \n",
    "Let’s compare overall revenue, order size, and coupon savings by product category.\n",
    "\n",
    "---\n"
   ]
  },
  {
   "cell_type": "code",
   "execution_count": null,
   "id": "0d4271e0-bb3e-4eac-a1af-f7ed763178d8",
   "metadata": {},
   "outputs": [],
   "source": [
    "prod_group = df.groupby('product_category')[['order_amount', 'discount_amount', 'final_amount']].sum().sort_values(by='final_amount', ascending=False)\n",
    "\n",
    "prod_group.plot(kind='bar', stacked=True, colormap='coolwarm')\n",
    "plt.title(\"Product Category Revenue Breakdown\")\n",
    "plt.ylabel(\"₹ Value\")\n",
    "plt.xlabel(\"Product Category\")\n",
    "plt.grid(True, alpha=0.4)\n",
    "plt.tight_layout()\n",
    "plt.show()\n"
   ]
  },
  {
   "cell_type": "markdown",
   "id": "0339cb42-c6f2-48fd-afe8-f5eba010afc5",
   "metadata": {},
   "source": [
    "##  Region-wise Coupon Behavior\n",
    "\n",
    "Let’s analyze which regions redeem coupons most.  \n",
    "This can help marketers **target offers geographically**.\n",
    "\n",
    "---\n"
   ]
  },
  {
   "cell_type": "code",
   "execution_count": null,
   "id": "4fb95d14-2234-47c5-9fc1-ce51a0ff1573",
   "metadata": {},
   "outputs": [],
   "source": [
    "region_coupon = df.groupby(['region', 'coupon_type']).size().unstack().fillna(0)\n",
    "\n",
    "region_coupon.plot(kind='bar', stacked=True, colormap='Set2')\n",
    "plt.title(\"Coupon Usage by Region\")\n",
    "plt.ylabel(\"Usage Count\")\n",
    "plt.xlabel(\"Region\")\n",
    "plt.xticks(rotation=0)\n",
    "plt.grid(True, linestyle='--', alpha=0.5)\n",
    "plt.tight_layout()\n",
    "plt.show()\n"
   ]
  },
  {
   "cell_type": "markdown",
   "id": "a5b3add6-a73d-4008-9fa5-d2b8ba343654",
   "metadata": {},
   "source": [
    "##  Customer Income vs Spend\n",
    "\n",
    "Do high-income customers spend more?  \n",
    "Or do lower-income customers use coupons more aggressively?\n",
    "\n",
    "We’ll explore with a scatterplot \n",
    "\n",
    "---\n"
   ]
  },
  {
   "cell_type": "code",
   "execution_count": null,
   "id": "f647bae2-d560-4e56-a2a6-297618771781",
   "metadata": {},
   "outputs": [],
   "source": [
    "sns.scatterplot(data=df, x='customer_income', y='final_amount', hue='sales_category', palette='husl')\n",
    "plt.title(\"Customer Income vs Final Spend\")\n",
    "plt.xlabel(\"Monthly Income (₹)\")\n",
    "plt.ylabel(\"Final Spend (₹)\")\n",
    "plt.grid(True, linestyle='--', alpha=0.4)\n",
    "plt.tight_layout()\n",
    "plt.show()\n"
   ]
  },
  {
   "cell_type": "markdown",
   "id": "1ca4dad5-442c-4e24-9a0a-d8316c30cd07",
   "metadata": {},
   "source": [
    "##  Coupon Usage Heatmap (Month × Coupon Type)\n",
    "\n",
    "Let’s visualize usage intensity over time for each coupon type.  \n",
    "This shows which coupons pop in which months.\n",
    "\n",
    "---\n"
   ]
  },
  {
   "cell_type": "code",
   "execution_count": null,
   "id": "dbe658ba-bad3-43ab-b165-7b27a58b1033",
   "metadata": {},
   "outputs": [],
   "source": [
    "heat_df = df.groupby(['month_name', 'coupon_type']).size().unstack().fillna(0)\n",
    "heat_df = heat_df.reindex(list(calendar.month_name)[1:])  # Reorder months\n",
    "\n",
    "sns.heatmap(heat_df, annot=True, fmt=\".0f\", cmap=\"YlGnBu\")\n",
    "plt.title(\"Coupon Type Usage by Month\")\n",
    "plt.xlabel(\"Coupon Type\")\n",
    "plt.ylabel(\"Month\")\n",
    "plt.tight_layout()\n",
    "plt.show()\n"
   ]
  },
  {
   "cell_type": "markdown",
   "id": "3a3024b3-4149-4ada-b56f-5670c829cfd8",
   "metadata": {},
   "source": [
    "##  Business KPI Dashboard\n",
    "\n",
    "Here are the key performance indicators for the entire dataset:  \n",
    "This gives us a high-level snapshot like any real dashboard.\n",
    "\n",
    "---\n"
   ]
  },
  {
   "cell_type": "markdown",
   "id": "8f2c04b5-bbfb-4b00-bcf8-a89e4a11c121",
   "metadata": {},
   "source": [
    "total_orders = df.shape[0]\n",
    "total_revenue = df['final_amount'].sum()\n",
    "total_discount = df['discount_amount'].sum()\n",
    "avg_discount_pct = df['discount_percentage'].mean()\n",
    "avg_units = df['units_sold'].mean()\n",
    "coupon_usage_rate = df['coupon_used'].mean() * 100\n",
    "\n",
    "print(\" Total Orders:\", total_orders)\n",
    "print(\" Total Revenue (after discounts): ₹\", round(total_revenue, 2))\n",
    "print(\" Total Discounts Given: ₹\", round(total_discount, 2))\n",
    "print(\" Avg. Discount %:\", round(avg_discount_pct, 2), \"%\")\n",
    "print(\" Avg. Units per Order:\", round(avg_units, 2))\n",
    "print(\" Coupon Usage Rate:\", round(coupon_usage_rate, 2), \"%\")\n"
   ]
  },
  {
   "cell_type": "markdown",
   "id": "a766191a-94aa-47a4-9c36-d240f842404c",
   "metadata": {},
   "source": [
    "## Coupon ROI Analysis\n",
    "\n",
    "Let’s calculate the **average final revenue generated per ₹1 of discount** given for each coupon type — an important metric for measuring marketing effectiveness.\n",
    "\n",
    "---"
   ]
  },
  {
   "cell_type": "code",
   "execution_count": null,
   "id": "578e9f4a-c739-4047-8cc7-39bb7e8b550a",
   "metadata": {},
   "outputs": [],
   "source": [
    "roi_df = df.groupby('coupon_type')[['final_amount', 'discount_amount']].sum()\n",
    "roi_df['ROI_per_discount_rupee'] = roi_df['final_amount'] / roi_df['discount_amount']\n",
    "roi_df = roi_df.sort_values(by='ROI_per_discount_rupee', ascending=False)\n",
    "\n",
    "print(\" ROI (₹ of revenue per ₹1 of discount):\")\n",
    "display(roi_df[['ROI_per_discount_rupee']].round(2))\n"
   ]
  },
  {
   "cell_type": "code",
   "execution_count": null,
   "id": "317df8cc-3f67-484e-8d43-7612a5369b6a",
   "metadata": {},
   "outputs": [],
   "source": [
    "##  Best Coupon Types per Product Category\n",
    "\n",
    "Let’s find the **most profitable coupon type** for each product category, based on average final spend per order.\n",
    "\n",
    "---"
   ]
  },
  {
   "cell_type": "code",
   "execution_count": null,
   "id": "02440f8b-87d9-4e28-976a-4e240cd6a6dc",
   "metadata": {},
   "outputs": [],
   "source": [
    "combo = df.groupby(['product_category', 'coupon_type'])['final_amount'].mean().reset_index()\n",
    "best_combo = combo.sort_values(['product_category', 'final_amount'], ascending=[True, False]).drop_duplicates('product_category')\n",
    "best_combo = best_combo.sort_values('final_amount', ascending=False)\n",
    "\n",
    "print(\" Best Coupon Type per Product Category:\")\n",
    "display(best_combo.reset_index(drop=True))\n"
   ]
  },
  {
   "cell_type": "code",
   "execution_count": null,
   "id": "355a2039-8e53-4fd3-ab69-9ee4f094b986",
   "metadata": {},
   "outputs": [],
   "source": [
    "## Business Intelligence Highlights\n",
    "\n",
    "-  **Flat coupons** offer the highest ROI across categories.\n",
    "-  **Groceries + Clothing** dominate in volume and spend.\n",
    "-  **East + Central regions** show highest engagement — invest in those geos.\n",
    "-  **Peak sales months**: November & December (leverage festive season).\n",
    "-  **Buy1Get1** is overused but less ROI efficient in some categories.\n",
    "-  High-income users spend more *without needing higher discounts*.\n",
    "\n",
    "> If this was a product? It would be a **coupon optimizer tool** for D2C brands and ecommerce retailers.  \n",
    "> If this was an app? It would show **best coupons per user** and **predict sales lift**.\n",
    "\n",
    "---\n"
   ]
  },
  {
   "cell_type": "code",
   "execution_count": null,
   "id": "6e99af70-fd2f-451f-b536-df11a396ac08",
   "metadata": {},
   "outputs": [],
   "source": [
    "#  Final Save for App/Product Use\n",
    "df.to_csv(\"final_coupon_analysis_product_ready.csv\", index=False)\n",
    "print(\" Final dataset saved as 'final_coupon_analysis_product_ready.csv'\")\n"
   ]
  },
  {
   "cell_type": "code",
   "execution_count": null,
   "id": "6c9eb245-9901-4e91-8146-8bd7314ff019",
   "metadata": {},
   "outputs": [],
   "source": [
    "\n",
    "> Built with ❤️ by Ashish Sahu  \n"
   ]
  }
 ],
 "metadata": {
  "kernelspec": {
   "display_name": "Python [conda env:base] *",
   "language": "python",
   "name": "conda-base-py"
  },
  "language_info": {
   "codemirror_mode": {
    "name": "ipython",
    "version": 3
   },
   "file_extension": ".py",
   "mimetype": "text/x-python",
   "name": "python",
   "nbconvert_exporter": "python",
   "pygments_lexer": "ipython3",
   "version": "3.12.7"
  }
 },
 "nbformat": 4,
 "nbformat_minor": 5
}
